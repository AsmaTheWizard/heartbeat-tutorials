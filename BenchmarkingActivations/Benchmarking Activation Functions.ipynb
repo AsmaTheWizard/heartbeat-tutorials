{
 "cells": [
  {
   "cell_type": "code",
   "execution_count": null,
   "metadata": {},
   "outputs": [],
   "source": [
    "!mkdir images"
   ]
  },
  {
   "cell_type": "code",
   "execution_count": null,
   "metadata": {},
   "outputs": [],
   "source": [
    "%matplotlib inline"
   ]
  },
  {
   "cell_type": "code",
   "execution_count": null,
   "metadata": {},
   "outputs": [],
   "source": [
    "import tensorflow as tf\n",
    "from tensorflow import keras\n",
    "import tensorflow.keras.datasets.mnist as mnist\n",
    "import matplotlib.pylab as plt"
   ]
  },
  {
   "cell_type": "code",
   "execution_count": null,
   "metadata": {},
   "outputs": [],
   "source": [
    "(x_train, y_train),(x_test, y_test) = mnist.load_data()\n",
    "x_train = tf.keras.utils.normalize(x_train, axis=1)\n",
    "x_test = tf.keras.utils.normalize(x_test, axis=1)\n",
    "\n",
    "y_train = keras.utils.to_categorical(y_train, 10)\n",
    "y_test = keras.utils.to_categorical(y_test, 10)"
   ]
  },
  {
   "cell_type": "code",
   "execution_count": null,
   "metadata": {},
   "outputs": [],
   "source": [
    "def train(activation_1, activation_2, optimizer):\n",
    "    model = keras.Sequential([\n",
    "        keras.layers.Flatten(input_shape=(28, 28)),\n",
    "        keras.layers.Dense(150, activation=activation_1),\n",
    "        keras.layers.Dense(10, activation=activation_2)\n",
    "    ])\n",
    "        \n",
    "    model.compile(optimizer='adam',\n",
    "                  loss=keras.losses.categorical_crossentropy,\n",
    "                  metrics=['accuracy'])\n",
    "        \n",
    "    history = model.fit(x_train, y_train,\n",
    "              batch_size=64,\n",
    "              epochs=10,\n",
    "              verbose=False,\n",
    "              validation_data=(x_test, y_test))\n",
    "    \n",
    "    return history, model"
   ]
  },
  {
   "cell_type": "code",
   "execution_count": null,
   "metadata": {
    "scrolled": true
   },
   "outputs": [],
   "source": [
    "def create_image(activation_1, activation_2, optimizer):\n",
    "    hist, model = train(activation_1, activation_2, optimizer)\n",
    "    \n",
    "    # acc\n",
    "    plt.plot(hist.history['accuracy'], label='train')\n",
    "    plt.plot(hist.history['val_accuracy'], label='validation')\n",
    "    plt.legend()\n",
    "    plt.title('{} {} - Accuracy'.format(activation_1, activation_2))\n",
    "    plt.savefig('images/{}-{}-acc'.format(activation_1, activation_2))\n",
    "    \n",
    "    # loss\n",
    "    plt.clf()\n",
    "    plt.plot(hist.history['loss'], label='train')\n",
    "    plt.plot(hist.history['val_loss'], label='validation')\n",
    "    plt.legend()\n",
    "    plt.title('{} {} - Loss'.format(activation_1, activation_2))\n",
    "    plt.savefig('images/{}-{}-loss'.format(activation_1, activation_2))\n",
    "    \n",
    "    # test\n",
    "    train_acc = model.evaluate(x_train, y_train, verbose=False)\n",
    "    test_acc = model.evaluate(x_test, y_test, verbose=False)\n",
    "    return train_acc[1], test_acc[1]"
   ]
  },
  {
   "cell_type": "code",
   "execution_count": null,
   "metadata": {},
   "outputs": [],
   "source": [
    "create_image('relu', 'softmax', 'adam')"
   ]
  },
  {
   "cell_type": "code",
   "execution_count": null,
   "metadata": {},
   "outputs": [],
   "source": [
    "create_image('tanh', 'softmax', 'adam')"
   ]
  },
  {
   "cell_type": "code",
   "execution_count": null,
   "metadata": {},
   "outputs": [],
   "source": [
    "create_image('softplus', 'softplus', 'adam')"
   ]
  },
  {
   "cell_type": "code",
   "execution_count": null,
   "metadata": {},
   "outputs": [],
   "source": [
    "create_image('elu', 'softmax', 'adam')"
   ]
  },
  {
   "cell_type": "code",
   "execution_count": null,
   "metadata": {},
   "outputs": [],
   "source": [
    "create_image('softplus', 'softmax', 'adam')"
   ]
  },
  {
   "cell_type": "code",
   "execution_count": null,
   "metadata": {},
   "outputs": [],
   "source": [
    "create_image('softmax', 'softmax', 'adam')"
   ]
  },
  {
   "cell_type": "code",
   "execution_count": null,
   "metadata": {},
   "outputs": [],
   "source": []
  }
 ],
 "metadata": {
  "kernelspec": {
   "display_name": "Python 3",
   "language": "python",
   "name": "python3"
  },
  "language_info": {
   "codemirror_mode": {
    "name": "ipython",
    "version": 3
   },
   "file_extension": ".py",
   "mimetype": "text/x-python",
   "name": "python",
   "nbconvert_exporter": "python",
   "pygments_lexer": "ipython3",
   "version": "3.7.1"
  }
 },
 "nbformat": 4,
 "nbformat_minor": 2
}
